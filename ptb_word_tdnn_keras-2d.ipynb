{
 "cells": [
  {
   "cell_type": "markdown",
   "metadata": {},
   "source": [
    "## Notes\n",
    "### 02/09/18 [12:00]\n",
    "Here are some notes after \"finishing training\".  \n",
    "To kick things off, each epoch took aproximately 2h20min to train, in my personal Ubuntu. It isn't the greatest of machines, but I was able to get some very impressive results after 5 epochs:  \n",
    "_Test loss: 1.4660126214812637  \n",
    "Test accuracy: 0.8552342583948307_  \n",
    "  \n",
    "The lengthy duration of each epoch is the reason for why I didn't continue training for more epochs. And also the fact that python got to the point of consuming 1GB of RAM, making my computer downright unusable.  \n",
    "Given that, the model results were saved after those 5 epochs.  \n",
    "One of the reasons for such a long training time is that using 2d convolution makes it so that the model has way more trainable parameters, and I mean it:  \n",
    "_Total params: 9,770,188  \n",
    "Trainable params: 9,770,188  \n",
    "Non-trainable params: 0_  \n",
    "  \n",
    "Also, something that I found during my research is this contrib feature: https://www.tensorflow.org/api_docs/python/tf/contrib/data/sliding_window_batch  \n",
    "I'm not entirely sure of how to use it, but it might prove itself very useful if I ever need to train a network on some fixed data, so the network itself should do the sliding window data preparation.  \n",
    "  \n",
    "That being said, I'm happy with the obtained results. And as a last note, it's noticeable that the model began calibrating less and less after time, and I believe that is due to the optimizer used, the _Adadelta_, which has a adaptive momentum implementation. I speculate that using a SGD, this model could have reached accuracy close to the 90%-95% range within the same 5 epochs.  \n",
    "  \n",
    "### 01/09/18 [14:00 - 14:30]\n",
    "As I mentioned in the last note, I tried implementing a 2d Convolution over the word Embeddings, almost as if they were images.  \n",
    "To do so, I added a Reshape layer between the Embedding_1 and Conv1d_1, in which the final shape was (batch_size, window_size, embedding_dimensionality, 1). After that, I changed the 1d convolutions to 2d, changing the kernel_size from 3 to (3,3). With that, I can now explain the the addition of an apparently useless new dimensionality to the input vector after Reshape, and I can confirm that it is indeed useless. I mean, kinda. What it does is that conv2d requires a 4d input, with one of the dimensionalities being number of channels. So all that Reshape_1 does is that it includes a new \"null\" dimension that is treated as the number of channels, so that we can do spatial convolution on the Embeddings. \n",
    "And the results appear to be clear from the very start. I've only ran half an epoch so far, but accuracy results appear promising.  \n",
    "\n",
    "### 12/08/18 [07:45 - 13:20]\n",
    "So yeah, I might have done a mistake or two in the last implementation.... Between them, not realising that the input to Conv1D has a lot of channels and that I ~~could~~ should use a lot of filters.  \n",
    "But that's all in the past, now that this little boy is up and learning and growing in a healthy manner.  \n",
    "Now the first Conv1D uses 5 filters and the second one, 3. I could perhaps increase this someday.  \n",
    "Not only that, but now it also saves it weights during training (I had done this in another implementation, but I forgot to commit that one, so now it's in this one).  \n",
    "And now on to some notes for my future self, I was asing myself if it would be possible to get the 16 dimensional vector produced by Embedding and use Conv2D on it. It seems to be possible with the aid of keras.layers.Reshape. The idea would be to simply add a single dimension to the end of Embedding, so it would become 4D, allowing it to be used as input to Conv2D. I might do that in a separate file though, so that I'm able to compare both results.\n",
    "Another possible improvement might be to shuffle the data. I didn't do so because there data order is relevant in this data set, but who knows what might happen?  \n",
    "Also, here goes a complete log of the changes, in chronological order:\n",
    "- Changed the parameter filter in the first Conv1D to 5\n",
    "- Changed the parameter filter in the second Conv2D to 3\n",
    "- Changed metrics to 'acc', as there is no implementation of sparse_categorical_accuracy in tf.keras\n",
    "- Added saving cell, with model.save_weights\n",
    "- Added ModelCheckpoint callback, saving only weights\n",
    "- Added model saving to saving cell\n",
    "- Changed the ModelCheckpoint parameter save_only_weights to False, as to resume training in later ocasions\n",
    "- Also, increased periods in ModelCheckpoint\n",
    "- Changed the checkpoint path to include data and time of checkpoint\n",
    "- Gave names to the layers\n",
    "- Added loading model cell  \n",
    "\n",
    "On a side note, loss just went nuts\n",
    "\n",
    "\n",
    "### Some time in the past:\n",
    "I have yet to conclude training the model, but I was to excited to share it finally working after a long time.  \n",
    "On a side note, however, it does seem to overfit before the end of even the first epoch, but we need to conclude a whole training session before jumping to any conclusions\n"
   ]
  },
  {
   "cell_type": "markdown",
   "metadata": {},
   "source": [
    "# Word Prediction using TDNN implemented in tf.keras\n",
    "This notebook is an attempt at implementing a Time Delay Neural Network for word prediction in the ptb dataset"
   ]
  },
  {
   "cell_type": "code",
   "execution_count": 118,
   "metadata": {},
   "outputs": [],
   "source": [
    "# Imports\n",
    "from __future__ import print_function\n",
    "import tensorboard as tb\n",
    "from tensorflow import keras\n",
    "import reader\n",
    "import numpy as np\n",
    "import os\n",
    "from time import strftime, gmtime\n",
    "import pathlib\n",
    "from pathlib import PosixPath\n",
    "import matplotlib.pyplot as plt\n",
    "import matplotlib\n",
    "import scipy\n",
    "from scipy import stats\n",
    "from matplotlib.ticker import FormatStrFormatter"
   ]
  },
  {
   "cell_type": "code",
   "execution_count": 2,
   "metadata": {},
   "outputs": [],
   "source": [
    "# Constants\n",
    "window_size = 20 # defines the past lookup for determining the following word\n",
    "path = \"data/simple-examples/data\"\n",
    "checkpoint_path = \"training/conv2d/cp-{epoch:04d}_\" + strftime(\"%H-%M_%d-%m-%Y\", gmtime()) + \".ckpt\"\n",
    "checkpoint_dir = os.path.dirname"
   ]
  },
  {
   "cell_type": "markdown",
   "metadata": {},
   "source": [
    "The following cell obtain the data using the reader.py file"
   ]
  },
  {
   "cell_type": "code",
   "execution_count": 3,
   "metadata": {},
   "outputs": [],
   "source": [
    "train_data, valid_data, test_data, vocab_size, word_to_id = reader.ptb_raw_data(path)\n",
    "x_train = train_data[:-1]\n",
    "x_train = [np.asarray(x_train[i:i+window_size]) for i in range(len(x_train)-window_size)]\n",
    "x_train = np.asarray(x_train)\n",
    "y_train = np.asarray(train_data[1:-window_size])\n",
    "#y_train = keras.preprocessing.text.one_hot(y_train, vocab_size)\n",
    "x_valid = valid_data[:-1]\n",
    "x_valid = [np.asarray(x_valid[i:i+window_size]) for i in range(len(x_valid)-window_size)]\n",
    "x_valid = np.asarray(x_valid)\n",
    "y_valid = valid_data[1:-window_size]\n",
    "y_valid = np.asarray(y_valid)\n",
    "x_test = test_data[:-1]\n",
    "x_test = [np.asarray(x_test[i:i+window_size]) for i in range(len(x_test)-window_size)]\n",
    "x_test = np.asarray(x_test)\n",
    "y_test = test_data[1:-window_size]\n",
    "y_test = np.asarray(y_test)\n",
    "id_to_word = {value: key for (key, value) in word_to_id.items()}"
   ]
  },
  {
   "cell_type": "markdown",
   "metadata": {},
   "source": [
    "Following next, we have an auxiliary function which decodes the ids and give us the original sentences"
   ]
  },
  {
   "cell_type": "code",
   "execution_count": 4,
   "metadata": {},
   "outputs": [],
   "source": [
    "def decode_text(text):\n",
    "    return ' '.join([id_to_word.get(i, '?') for i in text])"
   ]
  },
  {
   "cell_type": "code",
   "execution_count": 5,
   "metadata": {},
   "outputs": [
    {
     "data": {
      "text/plain": [
       "'<eos> mr. <unk> is chairman of <unk> n.v. the dutch publishing group <eos> rudolph <unk> N years old and former'"
      ]
     },
     "execution_count": 5,
     "metadata": {},
     "output_type": "execute_result"
    }
   ],
   "source": [
    "decode_text (x_train[40])"
   ]
  },
  {
   "cell_type": "code",
   "execution_count": 6,
   "metadata": {},
   "outputs": [
    {
     "name": "stdout",
     "output_type": "stream",
     "text": [
      "(929568, 20)\n",
      "(929568,)\n"
     ]
    }
   ],
   "source": [
    "print(x_train.shape)\n",
    "print(y_train.shape)"
   ]
  },
  {
   "cell_type": "markdown",
   "metadata": {},
   "source": [
    "As we can see, each index of the input has a length of 20 words, as defined in _window-length_\n",
    "<br>\n",
    "With our data already processed, we can finally create our model."
   ]
  },
  {
   "cell_type": "code",
   "execution_count": 7,
   "metadata": {},
   "outputs": [],
   "source": [
    "# First time instantiation\n",
    "model = keras.Sequential()\n",
    "model.add(keras.layers.Embedding(vocab_size, 16, input_length = window_size, name = \"Embedding_1\"))\n",
    "#model.add(keras.layers.Flatten())\n",
    "model.add(keras.layers.Reshape((10,16,1), name = \"Reshape_1\"))\n",
    "model.add(keras.layers.Conv2D(filters = 3, kernel_size = (3,3), padding = \"same\", activation = keras.activations.tanh, name = \"Conv2D_1\"))\n",
    "model.add(keras.layers.Dropout(0.2, name = \"Droupout_1\"))\n",
    "model.add(keras.layers.Conv2D(filters = 2, kernel_size = (3,3), padding = \"same\", activation = keras.activations.tanh, name = \"Conv2D_2\"))\n",
    "model.add(keras.layers.Dropout(0.25, name = \"Dropout_2\"))\n",
    "model.add(keras.layers.Flatten(name = \"Flatten_1\"))\n",
    "model.add(keras.layers.Dense(vocab_size, activation = keras.activations.softmax, name = \"Dense_1\"))"
   ]
  },
  {
   "cell_type": "code",
   "execution_count": 4,
   "metadata": {
    "scrolled": true
   },
   "outputs": [
    {
     "name": "stderr",
     "output_type": "stream",
     "text": [
      "e:\\wpy-3661\\notebooks\\tdnn-asr\\env\\lib\\site-packages\\tensorflow\\python\\ops\\gradients_impl.py:108: UserWarning: Converting sparse IndexedSlices to a dense Tensor of unknown shape. This may consume a large amount of memory.\n",
      "  \"Converting sparse IndexedSlices to a dense Tensor of unknown shape. \"\n"
     ]
    }
   ],
   "source": [
    "# Model loading - loads the most recent model recorded manually. Feel free to change\n",
    "# Sort the checkpoints by modification time.\n",
    "#checkpoints = pathlib.Path(\"./models\").glob(\"*\")\n",
    "checkpoints = pathlib.Path(\"./models/\").glob(\"*\")\n",
    "checkpoints = sorted(checkpoints, key=lambda cp:cp.stat().st_mtime)\n",
    "checkpoints = [cp.with_suffix('') for cp in checkpoints]\n",
    "latest = str(checkpoints[-1])\n",
    "checkpoints\n",
    "model = keras.models.load_model(latest)"
   ]
  },
  {
   "cell_type": "code",
   "execution_count": 5,
   "metadata": {},
   "outputs": [
    {
     "name": "stdout",
     "output_type": "stream",
     "text": [
      "_________________________________________________________________\n",
      "Layer (type)                 Output Shape              Param #   \n",
      "=================================================================\n",
      "Embedding_1 (Embedding)      (None, 20, 16)            160000    \n",
      "_________________________________________________________________\n",
      "Reshape_1 (Reshape)          (None, 20, 16, 1)         0         \n",
      "_________________________________________________________________\n",
      "Conv2D_1 (Conv2D)            (None, 20, 16, 5)         50        \n",
      "_________________________________________________________________\n",
      "Droupout_1 (Dropout)         (None, 20, 16, 5)         0         \n",
      "_________________________________________________________________\n",
      "Conv2D_2 (Conv2D)            (None, 20, 16, 3)         138       \n",
      "_________________________________________________________________\n",
      "Dropout_2 (Dropout)          (None, 20, 16, 3)         0         \n",
      "_________________________________________________________________\n",
      "Flatten_1 (Flatten)          (None, 960)               0         \n",
      "_________________________________________________________________\n",
      "Dense_1 (Dense)              (None, 10000)             9610000   \n",
      "=================================================================\n",
      "Total params: 9,770,188\n",
      "Trainable params: 9,770,188\n",
      "Non-trainable params: 0\n",
      "_________________________________________________________________\n",
      "None\n"
     ]
    }
   ],
   "source": [
    "print (model.summary())"
   ]
  },
  {
   "cell_type": "code",
   "execution_count": 6,
   "metadata": {},
   "outputs": [],
   "source": [
    "model.compile(\n",
    "    loss = keras.losses.sparse_categorical_crossentropy,\n",
    "    optimizer = keras.optimizers.SGD(),\n",
    "    metrics = ['acc'] #keras.metrics.categorical_accuracy] # remember to later change to sparse_categorical_accuracy (this is the cause for strange eval)\n",
    ")"
   ]
  },
  {
   "cell_type": "code",
   "execution_count": 7,
   "metadata": {},
   "outputs": [],
   "source": [
    "# Checkpoint callback\n",
    "cp_callback = keras.callbacks.ModelCheckpoint(\n",
    "    checkpoint_path, verbose = 1, save_weights_only = False, period = 3) # Also, later change to save_weights_only = false, and perhaps increase period to 3 or 4. This will allow us to later resume training from where we left"
   ]
  },
  {
   "cell_type": "code",
   "execution_count": 18,
   "metadata": {},
   "outputs": [
    {
     "name": "stderr",
     "output_type": "stream",
     "text": [
      "e:\\wpy-3661\\notebooks\\tdnn-asr\\env\\lib\\site-packages\\tensorflow\\python\\ops\\gradients_impl.py:108: UserWarning: Converting sparse IndexedSlices to a dense Tensor of unknown shape. This may consume a large amount of memory.\n",
      "  \"Converting sparse IndexedSlices to a dense Tensor of unknown shape. \"\n"
     ]
    },
    {
     "name": "stdout",
     "output_type": "stream",
     "text": [
      "Train on 929568 samples, validate on 73739 samples\n",
      "Epoch 1/12\n",
      "   672/929568 [..............................] - ETA: 1:07:23 - loss: 1.7953 - acc: 0.7827"
     ]
    },
    {
     "ename": "KeyboardInterrupt",
     "evalue": "",
     "output_type": "error",
     "traceback": [
      "\u001b[1;31m---------------------------------------------------------------------------\u001b[0m",
      "\u001b[1;31mKeyboardInterrupt\u001b[0m                         Traceback (most recent call last)",
      "\u001b[1;32m<ipython-input-18-7468986f8d60>\u001b[0m in \u001b[0;36m<module>\u001b[1;34m()\u001b[0m\n\u001b[0;32m      4\u001b[0m           \u001b[0mvalidation_data\u001b[0m \u001b[1;33m=\u001b[0m \u001b[1;33m(\u001b[0m\u001b[0mx_valid\u001b[0m\u001b[1;33m,\u001b[0m \u001b[0my_valid\u001b[0m\u001b[1;33m)\u001b[0m\u001b[1;33m,\u001b[0m\u001b[1;33m\u001b[0m\u001b[0m\n\u001b[0;32m      5\u001b[0m           \u001b[0mshuffle\u001b[0m \u001b[1;33m=\u001b[0m \u001b[1;32mFalse\u001b[0m\u001b[1;33m,\u001b[0m\u001b[1;33m\u001b[0m\u001b[0m\n\u001b[1;32m----> 6\u001b[1;33m           \u001b[0mcallbacks\u001b[0m \u001b[1;33m=\u001b[0m \u001b[1;33m[\u001b[0m\u001b[0mcp_callback\u001b[0m\u001b[1;33m]\u001b[0m\u001b[1;33m\u001b[0m\u001b[0m\n\u001b[0m\u001b[0;32m      7\u001b[0m )\n",
      "\u001b[1;32me:\\wpy-3661\\notebooks\\tdnn-asr\\env\\lib\\site-packages\\tensorflow\\python\\keras\\engine\\training.py\u001b[0m in \u001b[0;36mfit\u001b[1;34m(self, x, y, batch_size, epochs, verbose, callbacks, validation_split, validation_data, shuffle, class_weight, sample_weight, initial_epoch, steps_per_epoch, validation_steps, **kwargs)\u001b[0m\n\u001b[0;32m   1361\u001b[0m           \u001b[0minitial_epoch\u001b[0m\u001b[1;33m=\u001b[0m\u001b[0minitial_epoch\u001b[0m\u001b[1;33m,\u001b[0m\u001b[1;33m\u001b[0m\u001b[0m\n\u001b[0;32m   1362\u001b[0m           \u001b[0msteps_per_epoch\u001b[0m\u001b[1;33m=\u001b[0m\u001b[0msteps_per_epoch\u001b[0m\u001b[1;33m,\u001b[0m\u001b[1;33m\u001b[0m\u001b[0m\n\u001b[1;32m-> 1363\u001b[1;33m           validation_steps=validation_steps)\n\u001b[0m\u001b[0;32m   1364\u001b[0m \u001b[1;33m\u001b[0m\u001b[0m\n\u001b[0;32m   1365\u001b[0m   def evaluate(self,\n",
      "\u001b[1;32me:\\wpy-3661\\notebooks\\tdnn-asr\\env\\lib\\site-packages\\tensorflow\\python\\keras\\engine\\training_arrays.py\u001b[0m in \u001b[0;36mfit_loop\u001b[1;34m(model, inputs, targets, sample_weights, batch_size, epochs, verbose, callbacks, val_inputs, val_targets, val_sample_weights, shuffle, callback_metrics, initial_epoch, steps_per_epoch, validation_steps)\u001b[0m\n\u001b[0;32m    262\u001b[0m           \u001b[0mins_batch\u001b[0m\u001b[1;33m[\u001b[0m\u001b[0mi\u001b[0m\u001b[1;33m]\u001b[0m \u001b[1;33m=\u001b[0m \u001b[0mins_batch\u001b[0m\u001b[1;33m[\u001b[0m\u001b[0mi\u001b[0m\u001b[1;33m]\u001b[0m\u001b[1;33m.\u001b[0m\u001b[0mtoarray\u001b[0m\u001b[1;33m(\u001b[0m\u001b[1;33m)\u001b[0m\u001b[1;33m\u001b[0m\u001b[0m\n\u001b[0;32m    263\u001b[0m \u001b[1;33m\u001b[0m\u001b[0m\n\u001b[1;32m--> 264\u001b[1;33m         \u001b[0mouts\u001b[0m \u001b[1;33m=\u001b[0m \u001b[0mf\u001b[0m\u001b[1;33m(\u001b[0m\u001b[0mins_batch\u001b[0m\u001b[1;33m)\u001b[0m\u001b[1;33m\u001b[0m\u001b[0m\n\u001b[0m\u001b[0;32m    265\u001b[0m         \u001b[1;32mif\u001b[0m \u001b[1;32mnot\u001b[0m \u001b[0misinstance\u001b[0m\u001b[1;33m(\u001b[0m\u001b[0mouts\u001b[0m\u001b[1;33m,\u001b[0m \u001b[0mlist\u001b[0m\u001b[1;33m)\u001b[0m\u001b[1;33m:\u001b[0m\u001b[1;33m\u001b[0m\u001b[0m\n\u001b[0;32m    266\u001b[0m           \u001b[0mouts\u001b[0m \u001b[1;33m=\u001b[0m \u001b[1;33m[\u001b[0m\u001b[0mouts\u001b[0m\u001b[1;33m]\u001b[0m\u001b[1;33m\u001b[0m\u001b[0m\n",
      "\u001b[1;32me:\\wpy-3661\\notebooks\\tdnn-asr\\env\\lib\\site-packages\\tensorflow\\python\\keras\\backend.py\u001b[0m in \u001b[0;36m__call__\u001b[1;34m(self, inputs)\u001b[0m\n\u001b[0;32m   2912\u001b[0m       \u001b[0mself\u001b[0m\u001b[1;33m.\u001b[0m\u001b[0m_make_callable\u001b[0m\u001b[1;33m(\u001b[0m\u001b[0mfeed_arrays\u001b[0m\u001b[1;33m,\u001b[0m \u001b[0mfeed_symbols\u001b[0m\u001b[1;33m,\u001b[0m \u001b[0msymbol_vals\u001b[0m\u001b[1;33m,\u001b[0m \u001b[0msession\u001b[0m\u001b[1;33m)\u001b[0m\u001b[1;33m\u001b[0m\u001b[0m\n\u001b[0;32m   2913\u001b[0m \u001b[1;33m\u001b[0m\u001b[0m\n\u001b[1;32m-> 2914\u001b[1;33m     \u001b[0mfetched\u001b[0m \u001b[1;33m=\u001b[0m \u001b[0mself\u001b[0m\u001b[1;33m.\u001b[0m\u001b[0m_callable_fn\u001b[0m\u001b[1;33m(\u001b[0m\u001b[1;33m*\u001b[0m\u001b[0marray_vals\u001b[0m\u001b[1;33m)\u001b[0m\u001b[1;33m\u001b[0m\u001b[0m\n\u001b[0m\u001b[0;32m   2915\u001b[0m     \u001b[0mself\u001b[0m\u001b[1;33m.\u001b[0m\u001b[0m_call_fetch_callbacks\u001b[0m\u001b[1;33m(\u001b[0m\u001b[0mfetched\u001b[0m\u001b[1;33m[\u001b[0m\u001b[1;33m-\u001b[0m\u001b[0mlen\u001b[0m\u001b[1;33m(\u001b[0m\u001b[0mself\u001b[0m\u001b[1;33m.\u001b[0m\u001b[0m_fetches\u001b[0m\u001b[1;33m)\u001b[0m\u001b[1;33m:\u001b[0m\u001b[1;33m]\u001b[0m\u001b[1;33m)\u001b[0m\u001b[1;33m\u001b[0m\u001b[0m\n\u001b[0;32m   2916\u001b[0m     \u001b[1;32mreturn\u001b[0m \u001b[0mfetched\u001b[0m\u001b[1;33m[\u001b[0m\u001b[1;33m:\u001b[0m\u001b[0mlen\u001b[0m\u001b[1;33m(\u001b[0m\u001b[0mself\u001b[0m\u001b[1;33m.\u001b[0m\u001b[0moutputs\u001b[0m\u001b[1;33m)\u001b[0m\u001b[1;33m]\u001b[0m\u001b[1;33m\u001b[0m\u001b[0m\n",
      "\u001b[1;32me:\\wpy-3661\\notebooks\\tdnn-asr\\env\\lib\\site-packages\\tensorflow\\python\\client\\session.py\u001b[0m in \u001b[0;36m__call__\u001b[1;34m(self, *args, **kwargs)\u001b[0m\n\u001b[0;32m   1380\u001b[0m           ret = tf_session.TF_SessionRunCallable(\n\u001b[0;32m   1381\u001b[0m               \u001b[0mself\u001b[0m\u001b[1;33m.\u001b[0m\u001b[0m_session\u001b[0m\u001b[1;33m.\u001b[0m\u001b[0m_session\u001b[0m\u001b[1;33m,\u001b[0m \u001b[0mself\u001b[0m\u001b[1;33m.\u001b[0m\u001b[0m_handle\u001b[0m\u001b[1;33m,\u001b[0m \u001b[0margs\u001b[0m\u001b[1;33m,\u001b[0m \u001b[0mstatus\u001b[0m\u001b[1;33m,\u001b[0m\u001b[1;33m\u001b[0m\u001b[0m\n\u001b[1;32m-> 1382\u001b[1;33m               run_metadata_ptr)\n\u001b[0m\u001b[0;32m   1383\u001b[0m         \u001b[1;32mif\u001b[0m \u001b[0mrun_metadata\u001b[0m\u001b[1;33m:\u001b[0m\u001b[1;33m\u001b[0m\u001b[0m\n\u001b[0;32m   1384\u001b[0m           \u001b[0mproto_data\u001b[0m \u001b[1;33m=\u001b[0m \u001b[0mtf_session\u001b[0m\u001b[1;33m.\u001b[0m\u001b[0mTF_GetBuffer\u001b[0m\u001b[1;33m(\u001b[0m\u001b[0mrun_metadata_ptr\u001b[0m\u001b[1;33m)\u001b[0m\u001b[1;33m\u001b[0m\u001b[0m\n",
      "\u001b[1;31mKeyboardInterrupt\u001b[0m: "
     ]
    }
   ],
   "source": [
    "model.fit(x_train, y_train,\n",
    "          epochs = 12,\n",
    "          verbose = 1,\n",
    "          validation_data = (x_valid, y_valid),\n",
    "          shuffle = False,\n",
    "          callbacks = [cp_callback]\n",
    ")"
   ]
  },
  {
   "cell_type": "code",
   "execution_count": null,
   "metadata": {},
   "outputs": [],
   "source": [
    "# I expect to be able to run this someday\n",
    "score = model.evaluate(x_test, y_test, verbose = 0)\n",
    "print('Test loss:', score[0])\n",
    "print('Test accuracy:', score[1])"
   ]
  },
  {
   "cell_type": "code",
   "execution_count": 37,
   "metadata": {},
   "outputs": [],
   "source": [
    "model.save_weights(\"./model_weights/conv2d_weights_\" + strftime(\"%H-%M_%d-%m-%Y\", gmtime()))\n",
    "model.save(\"./models/conv2d_model_\" + strftime(\"%H-%M_%d-%m-%Y\", gmtime())) # This allows us to resume training, since Adadelta has adaptive parameters"
   ]
  },
  {
   "cell_type": "code",
   "execution_count": 14,
   "metadata": {},
   "outputs": [
    {
     "name": "stdout",
     "output_type": "stream",
     "text": [
      "[1239  710  781  266  414  533  514   40 1159 1007 1392  840   24 1323\n",
      " 1387  155 1380 1077  716  788  972 1358  216 1085 1355  389  216 1150\n",
      " 1588  744  739 1143  965  362  665 1567 1403  975  509  938 1379 1403\n",
      "  374  748  889 1354  900  446  701 1343]\n"
     ]
    }
   ],
   "source": [
    "inp = model.input                                           # input placeholder\n",
    "#outputs = [layer.output for layer in model.layers]          # all layer outputs\n",
    "outputs = [model.layers[2].output, model.layers[4].output]\n",
    "functor = keras.backend.function([inp]+ [keras.backend.learning_phase()], outputs ) # evaluation function\n",
    "mask = [np.random.randint(0, 1600, 50), np.random.randint(0, 960, 50)]\n",
    "print (mask[0])"
   ]
  },
  {
   "cell_type": "code",
   "execution_count": 66,
   "metadata": {},
   "outputs": [
    {
     "name": "stdout",
     "output_type": "stream",
     "text": [
      "[[-0.9723883  -0.99995893  0.9550044  ... -0.21607855  0.9943161\n",
      "   0.9106723 ]\n",
      " [-0.9800286  -0.78755623  0.84456944 ...  0.94381845 -0.9756971\n",
      "  -0.27614653]\n",
      " [ 0.8961085  -0.9966171   0.9983294  ...  0.9871406   0.95904016\n",
      "  -0.8710535 ]\n",
      " ...\n",
      " [-0.96465707 -0.89332     0.8768315  ...  0.90055066  0.30913404\n",
      "   0.4532876 ]\n",
      " [ 0.89785236 -0.9933317   0.836221   ...  0.9969585  -0.4781781\n",
      "   0.49241164]\n",
      " [-0.6216497  -0.999377    0.97339404 ...  0.9993931  -0.9057351\n",
      "  -0.46476623]]\n",
      "(500, 50)\n"
     ]
    }
   ],
   "source": [
    "# Testing\n",
    "layer_outs = list()\n",
    "results1 = list()\n",
    "results2 = list()\n",
    "for test in range(500):\n",
    "    #print (test)\n",
    "    layer_outs = functor([[x_test[test]], 1.])\n",
    "    layers = list()\n",
    "    for i in range(len(layer_outs)):\n",
    "        layer = layer_outs[i]\n",
    "        layer = np.hstack(layer)\n",
    "        layer = np.hstack(layer)\n",
    "        layer = np.hstack(layer)\n",
    "        output = layer[mask[i]]\n",
    "        results1.append(output) if i == 0 else results2.append(output)\n",
    "results1 = np.asarray(results1)\n",
    "results2 = np.asarray(results2)\n",
    "print(results1)\n",
    "print(results1.shape)"
   ]
  },
  {
   "cell_type": "code",
   "execution_count": 15,
   "metadata": {},
   "outputs": [
    {
     "name": "stdout",
     "output_type": "stream",
     "text": [
      "(50, 50)\n"
     ]
    }
   ],
   "source": [
    "#results1 = results1.transpose()\n",
    "hist = [np.histogram(x, bins=50, density=True, range=(-1,1))[0] for x in results1.transpose()]\n",
    "hist = np.asarray(hist)\n",
    "hist = hist.transpose()\n",
    "print(hist.shape)"
   ]
  },
  {
   "cell_type": "code",
   "execution_count": 16,
   "metadata": {},
   "outputs": [
    {
     "name": "stdout",
     "output_type": "stream",
     "text": [
      "[2.1  1.5  3.05 1.4  1.75 0.7  1.15 2.   1.7  1.95 1.   5.9  1.55 1.5\n",
      " 1.1  0.7  1.95 1.9  1.75 1.3  0.   2.   2.15 1.45 0.3  5.9  0.8  1.65\n",
      " 0.35 2.35 1.7  1.4  1.8  2.1  1.9  0.9  0.8  0.   1.45 1.4  1.5  0.25\n",
      " 1.   1.25 1.85 0.95 1.7  2.3  0.25 1.95]\n"
     ]
    }
   ],
   "source": [
    "print(hist[1])"
   ]
  },
  {
   "cell_type": "code",
   "execution_count": 17,
   "metadata": {},
   "outputs": [
    {
     "data": {
      "image/png": "[encoded data removed]",
      "text/plain": [
       "<Figure size 432x288 with 1 Axes>"
      ]
     },
     "metadata": {
      "needs_background": "light"
     },
     "output_type": "display_data"
    }
   ],
   "source": [
    "plt.plot(hist[1])\n",
    "plt.show()"
   ]
  },
  {
   "cell_type": "code",
   "execution_count": 121,
   "metadata": {},
   "outputs": [
    {
     "data": {
      "image/png": "[encoded data removed]",
      "text/plain": [
       "<Figure size 432x288 with 2 Axes>"
      ]
     },
     "metadata": {
      "needs_background": "light"
     },
     "output_type": "display_data"
    }
   ],
   "source": [
    "ax = plt.imshow(hist, cmap=matplotlib.cm.jet, vmin=0, vmax=1, aspect = \"auto\", interpolation=None)\n",
    "cbar = plt.colorbar()\n",
    "cbar.set_label('Frequência', rotation=270, labelpad=15, size=15)\n",
    "cbar.labelpad = 70\n",
    "#ax.set_xticklabels([\"0\",\"0.2\",\"0.4\",\"0.6\",\"0.8\",\"1\"])\n",
    "#ax.suptitle('test title', fontsize=20)\n",
    "ax.axes.invert_yaxis()\n",
    "ax.axes.set_yticklabels(np.arange(-1.0,1.1,.5))\n",
    "plt.yticks(np.arange(0, 51, 12.5))\n",
    "plt.ylim(0,50)\n",
    "#ax.axes.tick_params(\"y\", labeltop=True)\n",
    "#ax.axes.bar(np.arange(-1.,1.,0.5), 5, width=0.8, align='center')\n",
    "#ax.axes.set(yticks=np.arange(-1.,1.,0.5), xlim=[-1, 10])\n",
    "ax.axes.margins(y=0, x=0)\n",
    "plt.xlabel('Unidades da camada 1, Conv2D', fontsize=18)\n",
    "plt.ylabel('Ativação', fontsize=16)\n",
    "plt.show()"
   ]
  },
  {
   "cell_type": "code",
   "execution_count": 190,
   "metadata": {},
   "outputs": [],
   "source": [
    "def plot_activations_freq(data, xlabel, ylabel, cbar=False, cbarlabel=None, cmap=matplotlib.cm.jet, bins=50, range=None,\n",
    "                         hist_transpose=True, file=None, tick_label_amnt=5, interpolation=None, invert_yaxis=True):\n",
    "    hist = [np.histogram(x, bins=50, density=True, range=(-1,1))[0] for x in data.transpose()]\n",
    "    hist = np.asarray(hist)\n",
    "    if hist_transpose:\n",
    "        hist = hist.transpose()\n",
    "    ax = plt.imshow(hist, cmap=cmap, vmin=0, vmax=1, aspect = \"auto\", interpolation=interpolation)\n",
    "    if cbar:\n",
    "        cbar = plt.colorbar()\n",
    "        if cbarlabel is not None:\n",
    "            cbar.set_label(cbarlabel, rotation=270, labelpad=15, size=15)\n",
    "            cbar.labelpad = 70\n",
    "    if invert_yaxis:\n",
    "        ax.axes.invert_yaxis()\n",
    "    ax.axes.set_yticklabels(np.arange(-1.0,1.1,2/(tick_label_amnt-1)))\n",
    "    plt.yticks(np.arange(0, len(data[0]) + 1, len(data[0])/(tick_label_amnt-1)))\n",
    "    plt.ylim(0,len(data[0]))\n",
    "    #ax.axes.yaxis.set_major_formatter(FormatStrFormatter('%.1f'))\n",
    "    #ax.axes.tick_params(\"y\", labeltop=True)\n",
    "    #ax.axes.bar(np.arange(-1.,1.,0.5), 5, width=0.8, align='center')\n",
    "    #ax.axes.set(yticks=np.arange(-1.,1.,0.5), xlim=[-1, 10])\n",
    "    #x.axes.margins(y=0, x=0\n",
    "    plt.xlabel('Unidades da camada 1, Conv2D', fontsize=18)\n",
    "    plt.ylabel('Ativação', fontsize=16)\n",
    "    plt.show()"
   ]
  },
  {
   "cell_type": "code",
   "execution_count": 191,
   "metadata": {},
   "outputs": [
    {
     "data": {
      "image/png": "[encoded data removed]",
      "text/plain": [
       "<Figure size 432x288 with 2 Axes>"
      ]
     },
     "metadata": {
      "needs_background": "light"
     },
     "output_type": "display_data"
    }
   ],
   "source": [
    "plot_activations_freq(results1, \"Ativações\", \"Unidades da camada 1, Conv2D\", cbar=True, cbarlabel=\"Frequência\")"
   ]
  },
  {
   "cell_type": "code",
   "execution_count": 179,
   "metadata": {},
   "outputs": [
    {
     "ename": "TypeError",
     "evalue": "plot_activations_freq() missing 2 required positional arguments: 'xlabel' and 'ylabel'",
     "output_type": "error",
     "traceback": [
      "\u001b[1;31m---------------------------------------------------------------------------\u001b[0m",
      "\u001b[1;31mTypeError\u001b[0m                                 Traceback (most recent call last)",
      "\u001b[1;32m<ipython-input-179-9f259e3282f6>\u001b[0m in \u001b[0;36m<module>\u001b[1;34m()\u001b[0m\n\u001b[1;32m----> 1\u001b[1;33m \u001b[0mplot_activations_freq\u001b[0m\u001b[1;33m(\u001b[0m\u001b[0mresults2\u001b[0m\u001b[1;33m)\u001b[0m\u001b[1;33m\u001b[0m\u001b[0m\n\u001b[0m",
      "\u001b[1;31mTypeError\u001b[0m: plot_activations_freq() missing 2 required positional arguments: 'xlabel' and 'ylabel'"
     ]
    }
   ],
   "source": [
    "plot_activations_freq(results2)"
   ]
  },
  {
   "cell_type": "code",
   "execution_count": null,
   "metadata": {},
   "outputs": [],
   "source": []
  }
 ],
 "metadata": {
  "kernelspec": {
   "display_name": "Python 3",
   "language": "python",
   "name": "python3"
  },
  "language_info": {
   "codemirror_mode": {
    "name": "ipython",
    "version": 3
   },
   "file_extension": ".py",
   "mimetype": "text/x-python",
   "name": "python",
   "nbconvert_exporter": "python",
   "pygments_lexer": "ipython3",
   "version": "3.6.6"
  }
 },
 "nbformat": 4,
 "nbformat_minor": 2
}
